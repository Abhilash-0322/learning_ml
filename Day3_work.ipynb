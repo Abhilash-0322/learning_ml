{
 "cells": [
  {
   "cell_type": "code",
   "execution_count": 1,
   "id": "cb8c79b9",
   "metadata": {},
   "outputs": [
    {
     "name": "stdout",
     "output_type": "stream",
     "text": [
      "Enter a Number :19\n",
      "The Prime Number upto 19 are =>\n",
      "Prime no is: 2\n",
      "Prime no is: 3\n",
      "Prime no is: 5\n",
      "Prime no is: 7\n",
      "Prime no is: 11\n",
      "Prime no is: 13\n",
      "Prime no is: 17\n",
      "Prime no is: 19\n"
     ]
    }
   ],
   "source": [
    "#prime number upto a particular number are\n",
    "n=int(input(\"Enter a Number :\"))\n",
    "print(f\"The Prime Number upto {n} are =>\")\n",
    "for i in range (2,n+1):\n",
    "    isPrime=True\n",
    "    for j in range(2,i//2+1):\n",
    "        if i%j==0:\n",
    "            isPrime=False\n",
    "            break\n",
    "    if isPrime:\n",
    "        print(\"Prime no is:\",i)"
   ]
  },
  {
   "cell_type": "code",
   "execution_count": 2,
   "id": "0bf11b39",
   "metadata": {},
   "outputs": [
    {
     "name": "stdout",
     "output_type": "stream",
     "text": [
      "Enter a number99\n",
      "Enter a number99\n",
      "Enter a number99\n",
      "99 is largest among 99 99 99\n"
     ]
    }
   ],
   "source": [
    "#for proving a number largest among 3\n",
    "a=int(input(\"Enter a number\"))\n",
    "b=int(input(\"Enter a number\"))\n",
    "c=int(input(\"Enter a number\"))\n",
    "if a>b and a>c:\n",
    "    print(a, \"is largest among\",a,b,c)\n",
    "elif b>a and b>c:\n",
    "    print(b, \"is largest among\",a,b,c)\n",
    "else:\n",
    "    print(c,\"is largest among\",a,b,c)"
   ]
  },
  {
   "cell_type": "code",
   "execution_count": 3,
   "id": "5baccd99",
   "metadata": {},
   "outputs": [
    {
     "name": "stdout",
     "output_type": "stream",
     "text": [
      "99 is largest\n"
     ]
    }
   ],
   "source": [
    "if a>b:\n",
    "    if a>c:\n",
    "        print(a,\"is largest\")\n",
    "    else:\n",
    "        print(c,\"is largest\")\n",
    "else:\n",
    "    print(b,\"is largest\")"
   ]
  },
  {
   "cell_type": "code",
   "execution_count": 10,
   "id": "b5699bed",
   "metadata": {},
   "outputs": [
    {
     "name": "stdout",
     "output_type": "stream",
     "text": [
      "Enter Your Chemistry Marks:75\n",
      "Enter Your Physics Marks:7\n",
      "Enter Your Marks In Maths:99\n",
      "Enter Your Marks In English:99\n",
      "Enter Your Marks In IT:99\n",
      "75.8\n",
      "Your Grade Is C\n"
     ]
    }
   ],
   "source": [
    "chem=int(input(\"Enter Your Chemistry Marks:\"))\n",
    "physics=int(input(\"Enter Your Physics Marks:\"))\n",
    "maths=int(input(\"Enter Your Marks In Maths:\"))\n",
    "English=int(input(\"Enter Your Marks In English:\"))\n",
    "IT=int(input(\"Enter Your Marks In IT:\"))\n",
    "Total=chem+physics+maths+English+IT\n",
    "percentage=(Total/500)*100\n",
    "print(percentage)\n",
    "if percentage>=90:\n",
    "    print(\"Your Grade Is A\")\n",
    "elif 90>percentage>=80:\n",
    "    print(\"Your Grade Is B\")\n",
    "elif 80>percentage>=70:\n",
    "    print(\"Your Grade Is C\")\n",
    "else:\n",
    "    pass"
   ]
  },
  {
   "cell_type": "code",
   "execution_count": null,
   "id": "ff56f2d5",
   "metadata": {},
   "outputs": [],
   "source": []
  }
 ],
 "metadata": {
  "kernelspec": {
   "display_name": "Python 3 (ipykernel)",
   "language": "python",
   "name": "python3"
  },
  "language_info": {
   "codemirror_mode": {
    "name": "ipython",
    "version": 3
   },
   "file_extension": ".py",
   "mimetype": "text/x-python",
   "name": "python",
   "nbconvert_exporter": "python",
   "pygments_lexer": "ipython3",
   "version": "3.11.5"
  }
 },
 "nbformat": 4,
 "nbformat_minor": 5
}
