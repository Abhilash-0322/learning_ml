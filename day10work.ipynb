{
 "cells": [
  {
   "cell_type": "code",
   "execution_count": 3,
   "metadata": {},
   "outputs": [],
   "source": [
    "import numpy as np\n",
    "arr=np.array([1,2,3,4,5,6,7])"
   ]
  },
  {
   "cell_type": "markdown",
   "metadata": {},
   "source": [
    "\"\"\"Tasks\"\"\"\n",
    "1. searching an element an element in an array.\n",
    "2. Finding largest number in an array\n",
    "3. Finding smalleset number in an array.\n",
    "4. Reversing an array\n",
    "5. Rotating an array by kth position"
   ]
  },
  {
   "cell_type": "code",
   "execution_count": 6,
   "metadata": {},
   "outputs": [
    {
     "name": "stdout",
     "output_type": "stream",
     "text": [
      "Element is found at index:3\n"
     ]
    }
   ],
   "source": [
    "#1.\n",
    "n=int(input(\"Enter a number you want to search for:\"))\n",
    "for i,element in enumerate(arr):\n",
    "    if element==n:\n",
    "        print(f\"Element is found at index:{i}\")"
   ]
  },
  {
   "cell_type": "code",
   "execution_count": 7,
   "metadata": {},
   "outputs": [
    {
     "name": "stdout",
     "output_type": "stream",
     "text": [
      "7\n"
     ]
    }
   ],
   "source": [
    "#2\n",
    "largest=arr[0]\n",
    "for i in arr:\n",
    "    if i>largest:\n",
    "        largest=i\n",
    "print(largest)"
   ]
  },
  {
   "cell_type": "code",
   "execution_count": 9,
   "metadata": {},
   "outputs": [
    {
     "name": "stdout",
     "output_type": "stream",
     "text": [
      "1\n"
     ]
    }
   ],
   "source": [
    "#3\n",
    "smallest=arr[0]\n",
    "for i in arr:\n",
    "    if smallest>i:\n",
    "        smallest=i\n",
    "print(smallest)"
   ]
  },
  {
   "cell_type": "code",
   "execution_count": 14,
   "metadata": {},
   "outputs": [
    {
     "name": "stdout",
     "output_type": "stream",
     "text": [
      "[7 6 5 4 3 2 1]\n"
     ]
    }
   ],
   "source": [
    "#4\n",
    "n=arr.size\n",
    "arr1=np.zeros(n,dtype=int)\n",
    "for i in range(n):\n",
    "    arr1[n-i-1]=arr[i]\n",
    "print(arr1)"
   ]
  },
  {
   "cell_type": "code",
   "execution_count": 20,
   "metadata": {},
   "outputs": [
    {
     "name": "stdout",
     "output_type": "stream",
     "text": [
      "[6 7 1 2 3 4 5]\n"
     ]
    }
   ],
   "source": [
    "#5\n",
    "k=int(input(\"Enter the number you want your array to be shifted\"))\n",
    "# for i in arr:\n",
    "shifted_array=np.roll(arr,k)\n",
    "print(shifted_array)"
   ]
  }
 ],
 "metadata": {
  "kernelspec": {
   "display_name": "base",
   "language": "python",
   "name": "python3"
  },
  "language_info": {
   "codemirror_mode": {
    "name": "ipython",
    "version": 3
   },
   "file_extension": ".py",
   "mimetype": "text/x-python",
   "name": "python",
   "nbconvert_exporter": "python",
   "pygments_lexer": "ipython3",
   "version": "3.11.5"
  }
 },
 "nbformat": 4,
 "nbformat_minor": 2
}
