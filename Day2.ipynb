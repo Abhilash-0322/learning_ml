{
 "cells": [
  {
   "cell_type": "code",
   "execution_count": 1,
   "id": "7298700a",
   "metadata": {},
   "outputs": [
    {
     "name": "stdout",
     "output_type": "stream",
     "text": [
      "1\n"
     ]
    }
   ],
   "source": [
    "print(str(1))"
   ]
  },
  {
   "cell_type": "code",
   "execution_count": 3,
   "id": "d3e4ed3f",
   "metadata": {},
   "outputs": [
    {
     "name": "stdout",
     "output_type": "stream",
     "text": [
      "9\n"
     ]
    }
   ],
   "source": [
    "import random\n",
    "a=random.randrange(1,10)\n",
    "print(a)"
   ]
  },
  {
   "cell_type": "code",
   "execution_count": 4,
   "id": "306cd233",
   "metadata": {},
   "outputs": [
    {
     "data": {
      "text/plain": [
       "str"
      ]
     },
     "execution_count": 4,
     "metadata": {},
     "output_type": "execute_result"
    }
   ],
   "source": [
    "b:str=\"ayush\"\n",
    "type(b)"
   ]
  },
  {
   "cell_type": "code",
   "execution_count": 5,
   "id": "13f08f8e",
   "metadata": {},
   "outputs": [],
   "source": [
    "b='5'"
   ]
  },
  {
   "cell_type": "code",
   "execution_count": 6,
   "id": "dac83fd3",
   "metadata": {},
   "outputs": [
    {
     "data": {
      "text/plain": [
       "str"
      ]
     },
     "execution_count": 6,
     "metadata": {},
     "output_type": "execute_result"
    }
   ],
   "source": [
    "type(b)"
   ]
  },
  {
   "cell_type": "code",
   "execution_count": 7,
   "id": "f76401dd",
   "metadata": {},
   "outputs": [],
   "source": [
    "multilinestring=\"\"\"hello this is a mutiline string we are at a club\"\"\""
   ]
  },
  {
   "cell_type": "code",
   "execution_count": 14,
   "id": "2de64ca7",
   "metadata": {},
   "outputs": [
    {
     "name": "stdout",
     "output_type": "stream",
     "text": [
      "hello this is a mutiline string we are at a club\n"
     ]
    }
   ],
   "source": [
    "print(multilinestring)\n",
    "f=\"F\""
   ]
  },
  {
   "cell_type": "code",
   "execution_count": 15,
   "id": "4cfa27cd",
   "metadata": {},
   "outputs": [
    {
     "name": "stdout",
     "output_type": "stream",
     "text": [
      "hello this is an F string\n"
     ]
    }
   ],
   "source": [
    "new_str=f\"hello this is an {f} string\"\n",
    "print(new_str)"
   ]
  },
  {
   "cell_type": "code",
   "execution_count": 16,
   "id": "b991a7c6",
   "metadata": {},
   "outputs": [
    {
     "data": {
      "text/plain": [
       "'hello this is an F string'"
      ]
     },
     "execution_count": 16,
     "metadata": {},
     "output_type": "execute_result"
    }
   ],
   "source": [
    "new_str"
   ]
  },
  {
   "cell_type": "code",
   "execution_count": 18,
   "id": "6f22015a",
   "metadata": {},
   "outputs": [
    {
     "name": "stdout",
     "output_type": "stream",
     "text": [
      "t\n",
      "h\n",
      "i\n",
      "s\n",
      " \n",
      "i\n",
      "s\n",
      " \n",
      "a\n",
      "n\n",
      " \n",
      "a\n",
      "r\n",
      "r\n",
      "a\n",
      "y\n"
     ]
    }
   ],
   "source": [
    "string_arr=\"this is an array\"\n",
    "for i in  string_arr:\n",
    "    print(i)"
   ]
  },
  {
   "cell_type": "code",
   "execution_count": 29,
   "id": "93abde02",
   "metadata": {},
   "outputs": [
    {
     "name": "stdout",
     "output_type": "stream",
     "text": [
      "Teaching python basics\n"
     ]
    }
   ],
   "source": [
    "new_dict={\"Innogeeks\":\"Teaching python basics\"}\n",
    "print(new_dict[\"Innogeeks\"])"
   ]
  },
  {
   "cell_type": "code",
   "execution_count": 40,
   "id": "dd32949e",
   "metadata": {},
   "outputs": [],
   "source": [
    "substring=string_arr[0:10:2]\n"
   ]
  },
  {
   "cell_type": "code",
   "execution_count": 39,
   "id": "9cb6d9a2",
   "metadata": {},
   "outputs": [
    {
     "name": "stdout",
     "output_type": "stream",
     "text": [
      "ti sa\n"
     ]
    }
   ],
   "source": [
    "print(substring)"
   ]
  },
  {
   "cell_type": "code",
   "execution_count": 2,
   "id": "92f412ec",
   "metadata": {},
   "outputs": [
    {
     "name": "stdout",
     "output_type": "stream",
     "text": [
      "A Shetty\n"
     ]
    }
   ],
   "source": [
    "x=\"Arun\"\n",
    "y=\"Shetty\"\n",
    "z=x[0]+\" \"+y\n",
    "print(z)"
   ]
  },
  {
   "cell_type": "code",
   "execution_count": 3,
   "id": "f061a991",
   "metadata": {},
   "outputs": [
    {
     "ename": "SyntaxError",
     "evalue": "'(' was never closed (3371672650.py, line 1)",
     "output_type": "error",
     "traceback": [
      "\u001b[1;36m  Cell \u001b[1;32mIn[3], line 1\u001b[1;36m\u001b[0m\n\u001b[1;33m    a=input(\"Enter your age\"\u001b[0m\n\u001b[1;37m           ^\u001b[0m\n\u001b[1;31mSyntaxError\u001b[0m\u001b[1;31m:\u001b[0m '(' was never closed\n"
     ]
    }
   ],
   "source": [
    "a=input(\"Enter your age\"\n",
    "       print(\"MY name is\"+a)"
   ]
  },
  {
   "cell_type": "code",
   "execution_count": null,
   "id": "25df0cdd",
   "metadata": {},
   "outputs": [],
   "source": []
  }
 ],
 "metadata": {
  "kernelspec": {
   "display_name": "Python 3 (ipykernel)",
   "language": "python",
   "name": "python3"
  },
  "language_info": {
   "codemirror_mode": {
    "name": "ipython",
    "version": 3
   },
   "file_extension": ".py",
   "mimetype": "text/x-python",
   "name": "python",
   "nbconvert_exporter": "python",
   "pygments_lexer": "ipython3",
   "version": "3.11.5"
  }
 },
 "nbformat": 4,
 "nbformat_minor": 5
}
