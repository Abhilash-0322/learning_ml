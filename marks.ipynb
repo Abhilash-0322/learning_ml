{
 "cells": [
  {
   "cell_type": "code",
   "execution_count": 1,
   "metadata": {},
   "outputs": [],
   "source": [
    "lst=[]\n",
    "for i in range (4):\n",
    "    lst.append(int(input()))"
   ]
  },
  {
   "cell_type": "code",
   "execution_count": 2,
   "metadata": {},
   "outputs": [
    {
     "name": "stdout",
     "output_type": "stream",
     "text": [
      "[5, 5, 5, 5]\n"
     ]
    }
   ],
   "source": [
    "print(lst)"
   ]
  },
  {
   "cell_type": "code",
   "execution_count": 7,
   "metadata": {},
   "outputs": [
    {
     "name": "stdout",
     "output_type": "stream",
     "text": [
      "aBHILSH\n"
     ]
    }
   ],
   "source": [
    "\n",
    "def swap_case(s):\n",
    "    newstr=\"\"\n",
    "    for i in range(len(s)):\n",
    "        if ord(s[i])<=90 and ord(s[i])>=65 :\n",
    "            newstr+=chr((ord(s[i]))+32)\n",
    "        elif ord(s[i])>=97 and ord(s[i])<=122:\n",
    "            newstr+=chr((ord(s[i]))-32)\n",
    "        else:\n",
    "            newstr+=s[i]\n",
    "             \n",
    "    return newstr\n",
    "print(swap_case(\"Abhilash\"))"
   ]
  },
  {
   "cell_type": "code",
   "execution_count": 8,
   "metadata": {},
   "outputs": [
    {
     "data": {
      "text/plain": [
       "'Hello Abhilash Maurya! You just delved into python.'"
      ]
     },
     "execution_count": 8,
     "metadata": {},
     "output_type": "execute_result"
    }
   ],
   "source": [
    "def print_full_name(first, last):\n",
    "    # Write your code here\n",
    "    text =f\"Hello {first} {last}! You just delved into python.\"\n",
    "    return text\n",
    "print_full_name(\"Abhilash\",\"Maurya\")"
   ]
  },
  {
   "cell_type": "code",
   "execution_count": 9,
   "metadata": {},
   "outputs": [
    {
     "data": {
      "text/plain": [
       "'Hello Abhilash Maurya! You just delved into python.'"
      ]
     },
     "execution_count": 9,
     "metadata": {},
     "output_type": "execute_result"
    }
   ],
   "source": [
    "def print_Full_name(first, last):\n",
    "    # Write your code here\n",
    "    text = \"Hello \"+ first+\" \"+last+\"!\"+\" You just delved into python.\"\n",
    "    return text\n",
    "print_Full_name(\"Abhilash\",\"Maurya\")"
   ]
  }
 ],
 "metadata": {
  "kernelspec": {
   "display_name": "base",
   "language": "python",
   "name": "python3"
  },
  "language_info": {
   "codemirror_mode": {
    "name": "ipython",
    "version": 3
   },
   "file_extension": ".py",
   "mimetype": "text/x-python",
   "name": "python",
   "nbconvert_exporter": "python",
   "pygments_lexer": "ipython3",
   "version": "3.11.5"
  }
 },
 "nbformat": 4,
 "nbformat_minor": 2
}
