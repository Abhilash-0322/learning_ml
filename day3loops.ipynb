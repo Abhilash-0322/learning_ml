{
 "cells": [
  {
   "cell_type": "code",
   "execution_count": 1,
   "id": "71571aaa",
   "metadata": {},
   "outputs": [
    {
     "name": "stdout",
     "output_type": "stream",
     "text": [
      "Enter Number a:18\n",
      "Enter Number b:19\n",
      "B is larger\n"
     ]
    }
   ],
   "source": [
    "a=int(input(\"Enter Number a:\"))\n",
    "b=int(input(\"Enter Number b:\"))\n",
    "if a>b:\n",
    "    print(\"A is larger\")\n",
    "else:\n",
    "    print(\"B is larger\")"
   ]
  },
  {
   "cell_type": "code",
   "execution_count": 2,
   "id": "915dfa9c",
   "metadata": {},
   "outputs": [
    {
     "name": "stdout",
     "output_type": "stream",
     "text": [
      "Enter A Number To Check For Prime:19\n",
      "19 is Prime\n"
     ]
    }
   ],
   "source": [
    "#prime number\n",
    "n=int(input(\"Enter A Number To Check For Prime:\"))\n",
    "counter=0\n",
    "for i in range (2,int(n//2)+1,1):\n",
    "    if n%i==0:\n",
    "        counter+=1\n",
    "        break\n",
    "if counter>0:\n",
    "    print(f\"{n} is Not Prime\")\n",
    "else:\n",
    "    print(f\"{n} is Prime\")"
   ]
  },
  {
   "cell_type": "code",
   "execution_count": 4,
   "id": "baafa56c",
   "metadata": {},
   "outputs": [
    {
     "name": "stdout",
     "output_type": "stream",
     "text": [
      "Enter a Number To Check For Odd And Even 19\n",
      "The number is Odd\n"
     ]
    }
   ],
   "source": [
    "d=int(input(\"Enter a Number To Check For Odd And Even \"))\n",
    "if d%2==0:\n",
    "    print(\"The number is Even\")\n",
    "else:\n",
    "    print(\"The number is Odd\")"
   ]
  },
  {
   "cell_type": "code",
   "execution_count": null,
   "id": "2b299538",
   "metadata": {},
   "outputs": [],
   "source": []
  }
 ],
 "metadata": {
  "kernelspec": {
   "display_name": "Python 3 (ipykernel)",
   "language": "python",
   "name": "python3"
  },
  "language_info": {
   "codemirror_mode": {
    "name": "ipython",
    "version": 3
   },
   "file_extension": ".py",
   "mimetype": "text/x-python",
   "name": "python",
   "nbconvert_exporter": "python",
   "pygments_lexer": "ipython3",
   "version": "3.11.5"
  }
 },
 "nbformat": 4,
 "nbformat_minor": 5
}
