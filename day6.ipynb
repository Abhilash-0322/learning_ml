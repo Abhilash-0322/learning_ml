{
 "cells": [
  {
   "cell_type": "code",
   "execution_count": 6,
   "metadata": {},
   "outputs": [
    {
     "name": "stdout",
     "output_type": "stream",
     "text": [
      "11\n"
     ]
    }
   ],
   "source": [
    "a=[9,7,8,11,4]\n",
    "def greatest(list):\n",
    "    greatest=list[0]\n",
    "    for i in range(len(list)):\n",
    "        if greatest<list[i]:\n",
    "            greatest=list[i]\n",
    "    print(greatest)\n",
    "greatest(a)"
   ]
  },
  {
   "cell_type": "code",
   "execution_count": 3,
   "metadata": {},
   "outputs": [
    {
     "data": {
      "text/plain": [
       "4"
      ]
     },
     "execution_count": 3,
     "metadata": {},
     "output_type": "execute_result"
    }
   ],
   "source": [
    "def square(*,x):\n",
    "    return x**2\n",
    "square(x=2)"
   ]
  },
  {
   "cell_type": "code",
   "execution_count": 8,
   "metadata": {},
   "outputs": [
    {
     "name": "stdout",
     "output_type": "stream",
     "text": [
      "hello\n",
      "can you\n",
      "hear me\n"
     ]
    }
   ],
   "source": [
    "def myFun(*argv):\n",
    "    for arg in argv:\n",
    "        print(arg)\n",
    "myFun(\"hello\", \"can you\",\"hear me\")"
   ]
  },
  {
   "cell_type": "code",
   "execution_count": 11,
   "metadata": {},
   "outputs": [
    {
     "name": "stdout",
     "output_type": "stream",
     "text": [
      "this is on argument Apple\n",
      "this is from argvs Mango\n",
      "this is from argvs Kiwi\n"
     ]
    }
   ],
   "source": [
    "def MyFun2(arg1,*argvs):\n",
    "    print(\"this is on argument \"+arg1)\n",
    "    for arg in argvs:\n",
    "        print(\"this is from argvs \"+arg)\n",
    "MyFun2(\"Apple\",\"Mango\",\"Kiwi\")"
   ]
  },
  {
   "cell_type": "code",
   "execution_count": 15,
   "metadata": {},
   "outputs": [
    {
     "name": "stdout",
     "output_type": "stream",
     "text": [
      "a is not an integer\n",
      "a is not an integer\n",
      "a is not an integer\n",
      "a is not an integer\n",
      "a is not an integer\n",
      "a is not an integer\n",
      "a is not an integer\n",
      "a is not an integer\n"
     ]
    },
    {
     "data": {
      "text/plain": [
       "1"
      ]
     },
     "execution_count": 15,
     "metadata": {},
     "output_type": "execute_result"
    }
   ],
   "source": [
    "def getint():\n",
    "    while True:    \n",
    "        try:\n",
    "            return int(input(\"Enter a number:\"))\n",
    "        except ValueError :\n",
    "            pass\n",
    "            print(\"a is not an integer\")\n",
    "getint()"
   ]
  },
  {
   "cell_type": "code",
   "execution_count": null,
   "metadata": {},
   "outputs": [],
   "source": [
    "def DictFunction(**argv):\n",
    "    print(\"this is the value of the argument\")\n",
    "        \n"
   ]
  },
  {
   "cell_type": "code",
   "execution_count": null,
   "metadata": {},
   "outputs": [],
   "source": []
  }
 ],
 "metadata": {
  "kernelspec": {
   "display_name": "base",
   "language": "python",
   "name": "python3"
  },
  "language_info": {
   "codemirror_mode": {
    "name": "ipython",
    "version": 3
   },
   "file_extension": ".py",
   "mimetype": "text/x-python",
   "name": "python",
   "nbconvert_exporter": "python",
   "pygments_lexer": "ipython3",
   "version": "3.11.5"
  }
 },
 "nbformat": 4,
 "nbformat_minor": 2
}
