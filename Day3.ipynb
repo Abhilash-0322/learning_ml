{
 "cells": [
  {
   "cell_type": "code",
   "execution_count": 1,
   "id": "c6febf4a",
   "metadata": {},
   "outputs": [
    {
     "name": "stdout",
     "output_type": "stream",
     "text": [
      "Enter your name      Abhilash Maurya\n",
      "MY name is      Abhilash Maurya\n"
     ]
    }
   ],
   "source": [
    "a=input(\"Enter your name \")\n",
    "print(\"MY name is \"+a)"
   ]
  },
  {
   "cell_type": "code",
   "execution_count": 2,
   "id": "5f7b9441",
   "metadata": {},
   "outputs": [
    {
     "name": "stdout",
     "output_type": "stream",
     "text": [
      "Enter your age18\n",
      "     Abhilash Maurya is 18 years old\n"
     ]
    }
   ],
   "source": [
    "b=int(input(\"Enter your age\"))\n",
    "print(a+\" is \"+str(b)+\" years old\")"
   ]
  },
  {
   "cell_type": "code",
   "execution_count": 3,
   "id": "70d6cfac",
   "metadata": {},
   "outputs": [
    {
     "name": "stdout",
     "output_type": "stream",
     "text": [
      "     Abhilash Maurya is 18 years old\n"
     ]
    }
   ],
   "source": [
    "print(f\"{a} is {b} years old\")"
   ]
  },
  {
   "cell_type": "code",
   "execution_count": 4,
   "id": "3811cb34",
   "metadata": {},
   "outputs": [
    {
     "name": "stdout",
     "output_type": "stream",
     "text": [
      "A. Maurya is 18 years old\n"
     ]
    }
   ],
   "source": [
    "first,last=a.split()\n",
    "print(f\"{first[0]+'. '+last} is {b} years old\")"
   ]
  },
  {
   "cell_type": "code",
   "execution_count": 5,
   "id": "c02f2f23",
   "metadata": {},
   "outputs": [
    {
     "name": "stdout",
     "output_type": "stream",
     "text": [
      "Enter you name:       AbHilash Maurya\n"
     ]
    }
   ],
   "source": [
    "name=input(\"Enter you name:\")"
   ]
  },
  {
   "cell_type": "code",
   "execution_count": 8,
   "id": "6e8d9024",
   "metadata": {},
   "outputs": [
    {
     "name": "stdout",
     "output_type": "stream",
     "text": [
      "       Abhilash Maurya\n",
      "AbHilash Maurya\n",
      "       ABHILASH MAURYA\n",
      "       AbHilash Maurya\n",
      "       abhilash maurya\n"
     ]
    }
   ],
   "source": [
    "print(name.title())\n",
    "print(name.strip())\n",
    "print(name.upper())\n",
    "print(name.center(0))\n",
    "print(name.lower())"
   ]
  },
  {
   "cell_type": "code",
   "execution_count": 9,
   "id": "21f83c55",
   "metadata": {},
   "outputs": [
    {
     "name": "stdout",
     "output_type": "stream",
     "text": [
      "22\n",
      "<class 'str'>\n"
     ]
    }
   ],
   "source": [
    "print(len(name))\n",
    "print(type(name))"
   ]
  },
  {
   "cell_type": "code",
   "execution_count": 10,
   "id": "c6b28937",
   "metadata": {},
   "outputs": [
    {
     "name": "stdout",
     "output_type": "stream",
     "text": [
      "18\n"
     ]
    }
   ],
   "source": [
    "s=input()"
   ]
  },
  {
   "cell_type": "code",
   "execution_count": 11,
   "id": "1e39edc9",
   "metadata": {},
   "outputs": [
    {
     "data": {
      "text/plain": [
       "str"
      ]
     },
     "execution_count": 11,
     "metadata": {},
     "output_type": "execute_result"
    }
   ],
   "source": [
    "type(s)"
   ]
  },
  {
   "cell_type": "code",
   "execution_count": 12,
   "id": "3c565565",
   "metadata": {},
   "outputs": [
    {
     "name": "stdout",
     "output_type": "stream",
     "text": [
      "prashant kiet.edu\n"
     ]
    }
   ],
   "source": [
    "email=\"prashant@kiet.edu\"\n",
    "first,mail=email.split(\"@\")\n",
    "print(first,mail)"
   ]
  },
  {
   "cell_type": "code",
   "execution_count": null,
   "id": "7f20bc9c",
   "metadata": {},
   "outputs": [],
   "source": []
  }
 ],
 "metadata": {
  "kernelspec": {
   "display_name": "Python 3 (ipykernel)",
   "language": "python",
   "name": "python3"
  },
  "language_info": {
   "codemirror_mode": {
    "name": "ipython",
    "version": 3
   },
   "file_extension": ".py",
   "mimetype": "text/x-python",
   "name": "python",
   "nbconvert_exporter": "python",
   "pygments_lexer": "ipython3",
   "version": "3.11.5"
  }
 },
 "nbformat": 4,
 "nbformat_minor": 5
}
